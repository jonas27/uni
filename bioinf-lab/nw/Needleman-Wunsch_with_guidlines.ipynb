{
 "cells": [
  {
   "cell_type": "markdown",
   "metadata": {},
   "source": [
    "# Needleman-Wunsch implementation\n",
    "\n",
    "In this asssingment you will be asked to implement the Needleman-Wunsch algorithm.\n",
    "\n",
    "You can implement it with a corresponding function or a class. The choice is up to you.\n",
    "\n",
    "### The inputs are:\n",
    "A protein sequnce A in a fasta file.\n",
    "\n",
    "A protein sequence B in a fasta file.\n",
    "\n",
    "Substitution matrix in a text file.\n",
    "\n",
    "Gap introduction cost as an integer.\n",
    "\n",
    "### The Outputs are:\n",
    "Alingment score\n",
    "Alingment representation of sequence1\n",
    "Alingment representation of sequence2\n",
    "\n",
    "## Implementation and testing\n",
    "1. First you need to implement your algorithm and test your implementation.\n",
    "Although there could be more than one alingment with an the optimal score, in this execrice we only requre you to provide one.\n",
    "\n",
    "2. Design some tests which will show that your code works correctly.\n",
    "For that purpose you can use some short DNA sequences. Create some examples which could be easily checked by eye.\n",
    "\n",
    "3. Run some tests with s1.fasta and s2.fasta\n",
    "Make sure that you could obtain the score of 31 with the PAM250 substitution matrix and the score of 4 with BLOSUM62 substitution matrix. Use gap cost of -8 for PAM250 and -6 for BLOSUM62. Be careful with the gap score and make sure that you score gaps negatively in your matrix.\n",
    "\n",
    "4. Provide alingments and scores for each pair of sequences in s1.fasta, s2.fasta, s3,fasta, s4.fasta\n",
    " for both PAM250 and BLOSUM62 and use the gap cost from the previous step"
   ]
  },
  {
   "cell_type": "code",
   "execution_count": 2,
   "metadata": {},
   "outputs": [],
   "source": [
    "# imports\n",
    "import unittest\n",
    "import numpy as np\n",
    "import io\n",
    "import pandas as pd"
   ]
  },
  {
   "cell_type": "code",
   "execution_count": 3,
   "metadata": {},
   "outputs": [],
   "source": [
    "def needleman_wunsch(fasta_file_1, fasta_file_2, file_substitution_matrix, cost_gap_open):\n",
    "    seq1= read_fasta_file(fasta_file_1)\n",
    "    seq2= read_fasta_file(fasta_file_2)\n",
    "    subm = read_substitution_matrix(file_substitution_matrix)\n",
    "    m = calculate_matrix(seq1,seq2,cost_gap_open, subm)\n",
    "    aningment_score, aligned_seq_1, aligned_seq_2 = traceback(m, seq1,seq2,cost_gap_open, subm)\n",
    "    return aningment_score, aligned_seq_1, aligned_seq_2\n",
    "\n",
    "class NeedlemanWunsch:\n",
    "    def run(fasta_file_1, fasta_file_2, file_substitution_matrix, cost_gap_open):\n",
    "        seq1= read_fasta_file(fasta_file_1)\n",
    "        seq2= read_fasta_file(fasta_file_2)\n",
    "        subm = read_substitution_matrix(file_substitution_matrix)\n",
    "        m = calculate_matrix(seq1,seq2,cost_gap_open, subm)\n",
    "        aningment_score, aligned_seq_1, aligned_seq_2 = traceback(m, seq1,seq2,cost_gap_open, subm)\n",
    "        return aningment_score, aligned_seq_1, aligned_seq_2"
   ]
  },
  {
   "cell_type": "code",
   "execution_count": 273,
   "metadata": {},
   "outputs": [],
   "source": [
    "class TestNeedleman(unittest.TestCase):\n",
    "    def test_needleman0(self):\n",
    "        seq1, seq2 = \"data/s1.fasta\",\"data/s2.fasta\" \n",
    "        iss,_,_ = needleman_wunsch(seq1, seq2, \"data/pam250.txt\", -8)\n",
    "        should = 31\n",
    "        self.assertEqual(iss, should)\n",
    "    def test_needleman1(self):\n",
    "        seq1, seq2 = \"data/test1_0.fasta\",\"data/test1_1.fasta\" \n",
    "        iss = needleman_wunsch(seq1, seq2, \"data/pam250.txt\", -8)\n",
    "        should = (-4, ['E', 'I', 'L', 'G', 'N', 'S', 'T', 'R', 'V'], ['S', 'T', 'R', 'V', 'T', 'V', 'T', 'S', 'D'])\n",
    "        self.assertEqual(iss, should)\n",
    "    def test_needleman2(self):\n",
    "        seq1, seq2 = \"data/test2_0.fasta\",\"data/test2_1.fasta\" \n",
    "        iss = needleman_wunsch(seq1, seq2, \"data/pam250.txt\", -8)\n",
    "        should = (-19, ['S', 'T', 'T', 'R', 'V', 'T', 'S', 'D'], ['E', 'T', '-', 'R', 'V', '-', '-', '-'])\n",
    "        self.assertEqual(iss, should)\n",
    "    def test_needleman2_blosum(self):\n",
    "        seq1, seq2 = \"data/test2_0.fasta\",\"data/test2_1.fasta\" \n",
    "        iss = needleman_wunsch(seq1, seq2, \"data/blosum62.txt\", -6)\n",
    "        should = (-10, ['S', 'T', 'T', 'R', 'V', 'T', 'S', 'D'], ['E', 'T', '-', 'R', 'V', '-', '-', '-'])\n",
    "        self.assertEqual(iss, should)\n",
    "t = TestNeedleman()\n",
    "t.test_needleman0()\n",
    "t.test_needleman1()\n",
    "t.test_needleman2()\n",
    "t.test_needleman2_blosum()"
   ]
  },
  {
   "cell_type": "markdown",
   "metadata": {},
   "source": [
    "## Guildines\n",
    "\n",
    "You do not have to use the suggested guidlines but it might help you not go get stuck"
   ]
  },
  {
   "cell_type": "code",
   "execution_count": 4,
   "metadata": {},
   "outputs": [],
   "source": [
    "def read_fasta_file(fasta_file):\n",
    "    line = open(fasta_file).readlines()[1].replace(\"\\n\",\"\")\n",
    "    sequence = np.array(list(line))\n",
    "    # add padding and convert to arr\n",
    "    sequence= np.insert(sequence,0,\" \")\n",
    "    return sequence"
   ]
  },
  {
   "cell_type": "code",
   "execution_count": 5,
   "metadata": {},
   "outputs": [],
   "source": [
    "class TestReadFastaFile(unittest.TestCase):\n",
    "    def test_read_fasta_file(self):\n",
    "        path = \"data/s1.fasta\"\n",
    "        sequence = read_fasta_file(path)\n",
    "        self.assertEqual(''.join(sequence), ' ILDMDVVEGSAARFDCKVEGYPDPEVMWFKDDNPVKESRHFQIDYDEEGN')\n",
    "t = TestReadFastaFile()\n",
    "t.test_read_fasta_file()"
   ]
  },
  {
   "cell_type": "code",
   "execution_count": 6,
   "metadata": {},
   "outputs": [],
   "source": [
    "def read_substitution_matrix(file_substitution_matrix):\n",
    "    \"\"\"\n",
    "    Implement reading the scores file.\n",
    "    It can be stored as a dictionary of example:\n",
    "    scores[(\"A\", \"R\")] = -1\n",
    "    \"\"\"\n",
    "    lines = open(file_substitution_matrix).readlines()\n",
    "    load_matrix = \"\"\n",
    "    # Correct matrix so that is is convertable np matrix via loadtxt\n",
    "    for l in lines:\n",
    "        if l[0]=='#':\n",
    "            continue\n",
    "        load_matrix+= l.replace(\"   \",\"-  \")\n",
    "    # Save and load to/from buffer\n",
    "    f = io.StringIO(load_matrix)\n",
    "    matrix = np.loadtxt(f, dtype='str')\n",
    "\n",
    "    # Convert np matrix to dict\n",
    "    scores = dict()\n",
    "    for i in range(matrix.shape[0]-1):\n",
    "        for j in range(matrix.shape[1]-1):\n",
    "            scores[(matrix[0][i+1],matrix[j+1][0])] = int(matrix[i+1][j+1])\n",
    "    return scores"
   ]
  },
  {
   "cell_type": "code",
   "execution_count": 7,
   "metadata": {
    "tags": []
   },
   "outputs": [],
   "source": [
    "class TestReadSubstitionMatrix(unittest.TestCase):\n",
    "    def test_read_substition_matrix_pam(self):\n",
    "        path = \"data/pam250.txt\"\n",
    "        scores = read_substitution_matrix(path)\n",
    "        self.assertEquals(scores.get(('*','*')), 1)\n",
    "    def test_read_substition_matrix_blosum(self):\n",
    "        path = \"data/blosum62.txt\"\n",
    "        scores = read_substitution_matrix(path)\n",
    "        self.assertEquals(scores.get(('A','A')), 4)\n",
    "t = TestReadSubstitionMatrix()\n",
    "t.test_read_substition_matrix_pam()\n",
    "t.test_read_substition_matrix_blosum()"
   ]
  },
  {
   "cell_type": "code",
   "execution_count": 21,
   "metadata": {},
   "outputs": [
    {
     "output_type": "stream",
     "name": "stdout",
     "text": [
      "      A  B  C\n   0 -1 -2 -3\nA -1  0  0  0\nB -2  0  0  0\nC -3  0  0  0\nD -4  0  0  0\n"
     ]
    }
   ],
   "source": [
    "def init_matrix(sequence1, sequence2, gap_cost):\n",
    "    \"\"\"\n",
    "    Implement initialization of the matrix.\n",
    "    Make sure you picked the right dimention and correctly initilized the first row and the first column.\n",
    "    init_matrix returns a pandas frame with the seqs as labels and the top row/column init to the gap_cost x gap_multiplier\n",
    "    \"\"\"\n",
    "    m = np.full((len(sequence1),len(sequence2)),0)\n",
    "    matrix = pd.DataFrame(m, columns=sequence2, index=sequence1)\n",
    "    for gap_mulitplier in range(len(sequence1)):\n",
    "        matrix.iloc[gap_mulitplier][0] = gap_cost*gap_mulitplier   \n",
    "    for gap_mulitplier in range(len(sequence2)):\n",
    "        matrix.iloc[0][gap_mulitplier] = gap_cost*gap_mulitplier   \n",
    "    return matrix\n",
    "print(init_matrix(np.array(['','A','B','C', 'D']),np.array(['','A','B','C']),-1))"
   ]
  },
  {
   "cell_type": "code",
   "execution_count": 27,
   "metadata": {},
   "outputs": [],
   "source": [
    "def new_value_computation(char_seq1, char_seq2, gap_cost, substitution_matrix, diag_val, top_val, left_val):\n",
    "    \"\"\"\n",
    "    new_value_computation computes a new cells value based on the left, top-left and top value. \n",
    "    Each direction corresponds to one value, where the highest value is chosen for the new cell (colission doesn't matter).\n",
    "    Implement the computation of the value in the new cell.\n",
    "    In this function we assume that we want to compute the value in the new cell in the matrix.\n",
    "    Assume that the values \"to the left\", \"to the top\" and \"top left\" are already computed and provided\n",
    "    as the input to the function. Also we know what characters in both sequences correspond to the given cell.\n",
    "    \"\"\"\n",
    "    diag_val += substitution_matrix.get((char_seq1,char_seq2))\n",
    "    top_val+= gap_cost\n",
    "    left_val += gap_cost\n",
    "    return sorted([diag_val, top_val , left_val], reverse=True)[0]\n",
    "\n",
    "if new_value_computation('A','R',-1,read_substitution_matrix(\"data/pam250.txt\"), 0, 2 ,-1) != 1:\n",
    "    print(\"error\")"
   ]
  },
  {
   "cell_type": "code",
   "execution_count": 42,
   "metadata": {
    "tags": []
   },
   "outputs": [],
   "source": [
    "def calculate_matrix(sequence1, sequence2, gap_opening_cost, substitution_cost):\n",
    "    \"\"\"\n",
    "    calculate_matrix completes the entire matrix for a given sequence.\n",
    "    TODO this method is ugly. With more time it should be made more readiable.\n",
    "    Implement the step of complete computation of the matrix\n",
    "    First initialize the matrix then fill it in from top to bottom.\n",
    "    \"\"\"\n",
    "    matrix = init_matrix(sequence1, sequence2, gap_opening_cost)\n",
    "    i,j = 1,1\n",
    "    while(True):\n",
    "        if i <= len(sequence1)-1 and j <= len(sequence2)-1 :\n",
    "            matrix.iloc[i][j]=new_value_computation(sequence1[i],sequence2[j], gap_opening_cost, substitution_cost,matrix.iloc[i-1][j-1],matrix.iloc[i-1][j],matrix.iloc[i][j-1])\n",
    "        for row in range(i+1, len(sequence1)):\n",
    "            matrix.iloc[row][j]=new_value_computation(sequence1[row],sequence2[j], gap_opening_cost, substitution_cost,matrix.iloc[row-1][j-1],matrix.iloc[row][j-1],matrix.iloc[row-1][j])\n",
    "        for col in range(j, len(sequence2)):\n",
    "            matrix.iloc[i][col]=new_value_computation(sequence1[i],sequence2[col], gap_opening_cost, substitution_cost,matrix.iloc[i-1][col-1],matrix.iloc[i-1][col],matrix.iloc[i][col-1])\n",
    "        if i == len(sequence1)-1 and i == len(sequence1)-1 : break \n",
    "        if i < len(sequence1)-1 : i+=1\n",
    "        if j < len(sequence2)-1 : j+=1\n",
    "    return matrix\n",
    "\n",
    "seq1 = np.array(['','P','A','W','H', 'E','A', 'E'])\n",
    "seq2 = np.array(['','H','E','A', 'G','A','W', 'G','H','E','E'])\n",
    "sub = read_substitution_matrix(\"data/pam250.txt\")\n",
    "m=calculate_matrix(seq1, seq2,-1,sub)\n",
    "if m.iloc[7][10] != 29 :\n",
    "    print('error')\n",
    "    print(m)\n",
    "\n",
    "# https://gtuckerkellogg.github.io/pairwise/demo/"
   ]
  },
  {
   "cell_type": "code",
   "execution_count": 44,
   "metadata": {
    "tags": []
   },
   "outputs": [],
   "source": [
    "def traceback(matrix, sequence1, sequence2, gap_opening_cost,  substitution_cost):\n",
    "    \"\"\"\n",
    "    traceback returns ONE traceback for ONE sequnce alignment. \n",
    "    it returns an alignment score and the aligned seq1 and seq2\n",
    "\n",
    "    Implement the traceback part of the algorithm\n",
    "    With the given matrix traceback which cells were taken to complete the path from \n",
    "    the top left corner to the bottom right corner.\n",
    "    \"\"\"\n",
    "    i, j= len(sequence1)-1, len(sequence2)-1\n",
    "    traceback = look(matrix, sequence1, sequence2, gap_opening_cost,  substitution_cost, i,j,[])\n",
    "    traceback.reverse()\n",
    "    a1 , a2 = alingment_build(traceback,sequence1,sequence2)\n",
    "    return matrix.iloc[i][j], a1, a2\n",
    "\n",
    "def look(matrix, sequence1, sequence2, gap_opening_cost,  substitution_matrix,i,j, traceback):\n",
    "    \"\"\"\n",
    "    look is a recursive and greedy method to find a traceback path.\n",
    "    It calculates a path from the bottom right cell to the top left.\n",
    "    \"\"\"\n",
    "    score = matrix.iloc[i][j]\n",
    "    if i==0 and j==0 :\n",
    "        return traceback\n",
    "    traceback.append([i,j])        \n",
    "    if i>0 and score == matrix.iloc[i-1][j] + gap_opening_cost:\n",
    "        i-=1\n",
    "        look(matrix, sequence1, sequence2, gap_opening_cost,  substitution_matrix, i,j,traceback)\n",
    "    elif j>0 and score == matrix.iloc[i][j-1] + gap_opening_cost:\n",
    "        j-=1\n",
    "        look(matrix, sequence1, sequence2, gap_opening_cost,  substitution_matrix, i,j,traceback)\n",
    "    elif j>0 and i>0 and score == matrix.iloc[i-1][j-1] + substitution_matrix.get((sequence1[i],sequence2[j])):\n",
    "        i-=1\n",
    "        j-=1\n",
    "        look(matrix, sequence1, sequence2, gap_opening_cost,  substitution_matrix, i,j,traceback)\n",
    "    return traceback\n",
    "\n",
    "seq1 = np.array(['','P','A','W','H', 'E','A', 'E'])\n",
    "seq2 = np.array(['','H','E','A', 'G','A','W', 'G','H','E','E'])\n",
    "sub = read_substitution_matrix(\"data/pam250.txt\")\n",
    "m=calculate_matrix(seq1, seq2,-1,sub)\n",
    "if m.iloc[7][10] != 29 :\n",
    "    print('error')\n",
    "    print(m)"
   ]
  },
  {
   "cell_type": "code",
   "execution_count": 49,
   "metadata": {},
   "outputs": [
    {
     "output_type": "stream",
     "name": "stdout",
     "text": [
      "(29, ['-', '-', 'P', '-', 'A', 'W', '-', 'H', 'E', 'A', 'E'], ['H', 'E', 'A', 'G', 'A', 'W', 'G', 'H', 'E', '-', 'E'])\n"
     ]
    }
   ],
   "source": [
    "def alingment_build(traceback, seq1, seq2):\n",
    "    \"\"\"\n",
    "    Implement the alingment creation.\n",
    "    Given the traceback figure out which editing operations were used to create the alingment.\n",
    "    \"\"\"\n",
    "    seq1_align, seq2_align =[], []\n",
    "    seq1, seq2= seq1[1:], seq2[1:]\n",
    "    for p in traceback:\n",
    "        if p[0] == 0:\n",
    "            seq1_align.append('-')\n",
    "            seq2_align.append(seq2[p[1]-1])\n",
    "        elif p[1] == 0:\n",
    "            seq1_align.append(seq1[p[0]-1])\n",
    "            seq2_align.append('-')\n",
    "        else:\n",
    "            seq1_align.append(seq1[p[0]-1])\n",
    "            seq2_align.append(seq2[p[1]-1])\n",
    "\n",
    "    # Substitute '-' if in the traceback we remain at the same position i for a sequence\n",
    "    # Here holds len(seq1)=len(seq2)\n",
    "    for i in range(len(seq1_align)):\n",
    "        if i > 0 and traceback[i][0] == traceback[i-1][0]:\n",
    "            seq1_align[i] = '-'\n",
    "        if i > 0 and traceback[i][1] == traceback[i-1][1]:\n",
    "            seq2_align[i] = '-'\n",
    "    return seq1_align, seq2_align\n",
    "\n",
    "seq1 = np.array(['','P','A','W','H', 'E','A', 'E'])\n",
    "seq2 = np.array(['','H','E','A', 'G','A','W', 'G','H','E','E'])\n",
    "sub = read_substitution_matrix(\"data/pam250.txt\")\n",
    "m=calculate_matrix(seq1, seq2,-1,sub)\n",
    "t = traceback(m,seq1,seq2,-1,sub)\n",
    "print(t)\n",
    "# print(alingment_build(t,seq1,seq2))"
   ]
  },
  {
   "source": [
    "![](img/test.png)"
   ],
   "cell_type": "markdown",
   "metadata": {}
  },
  {
   "cell_type": "code",
   "execution_count": null,
   "metadata": {},
   "outputs": [],
   "source": []
  },
  {
   "cell_type": "code",
   "execution_count": null,
   "metadata": {},
   "outputs": [],
   "source": []
  }
 ],
 "metadata": {
  "kernelspec": {
   "display_name": "Python 3.8.6 64-bit",
   "language": "python",
   "name": "python38664bita999cf5ad80f4024a0f12dd600237df8"
  },
  "language_info": {
   "codemirror_mode": {
    "name": "ipython",
    "version": 3
   },
   "file_extension": ".py",
   "mimetype": "text/x-python",
   "name": "python",
   "nbconvert_exporter": "python",
   "pygments_lexer": "ipython3",
   "version": "3.8.6-final"
  }
 },
 "nbformat": 4,
 "nbformat_minor": 2
}