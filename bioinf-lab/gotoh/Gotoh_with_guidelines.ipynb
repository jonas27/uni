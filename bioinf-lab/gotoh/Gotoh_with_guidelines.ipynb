{
 "cells": [
  {
   "cell_type": "markdown",
   "metadata": {},
   "source": [
    "# Gotoh implementation\n",
    "\n",
    "In this asssingment you will be asked to implement the Gotoh algorithm.\n",
    "\n",
    "You can implement it with a corresponding function or a class. The choice is up to you.\n",
    "\n",
    "\n",
    "\n",
    "<span style=\"color:red\">In this asingment you cannot use import</span>\n",
    "\n",
    "### The inputs are:\n",
    "An input DNA or protein sequence1.\n",
    "\n",
    "An input DNA or protein sequence2.\n",
    "\n",
    "Affine gap open cost as an integer.\n",
    "\n",
    "Affine gap extension score as an integer\n",
    "\n",
    "Substitution matrix in a text file (This time it is an optional argument).\n",
    "\n",
    "\n",
    "### The Outputs are:\n",
    "Alingment score.\n",
    "All optimal alingment representations of sequence1 and sequence2.\n",
    "Each of the optimal alingments has to be represented by a tuple of strings corresponding to sequence1 and sequnce2 with the correct insertions and deletions. \n",
    "\n",
    "## Implementation\n",
    "\n",
    "First you need to implement your algorithm and test your implementation.\n",
    "Note that now your algorithm has to handle DNA sequences as well as the protein sequences.\n",
    "\n",
    "Test your code using http://rna.informatik.uni-freiburg.de/Teaching/index.jsp?toolName=Gotoh\n",
    "\n",
    "\n",
    "Make sure that you get identical results for all the matrices as well as all the alingments.\n",
    "\n",
    "### Graded tasks\n",
    "1. Create a pair of DNA sequences, both shorter than 30 nucleotides, and show that your implementation is capable of producing the correct alignment score as well as all the possible alignments. (Show the case with at least 2 possible alingments)\n",
    "\n",
    "2. Create 2 csv files scores_pam.csv, scores_blossum.csv (for PAM and BLOSSUM respectivelly) with all pairwise alignment scores between the input protein sequences.\n",
    "\n",
    "### Parameters\n",
    "\n",
    "1. Maximization in D, P and Q matrixes\n",
    "\n",
    "2. Scores for DNA: match=1, mismatch=-1, gap_opening(alpha) = -3, gap_extension(beta) = -1\n",
    "\n",
    "3. Scores for proteins substitution = value from the matrix, gap_opening(alpha) = -11, gap_extension(beta) = -1\n",
    "\n",
    "\n",
    "\n",
    "\n",
    "\n"
   ]
  },
  {
   "cell_type": "markdown",
   "metadata": {},
   "source": [
    "### Potenital Pitfalls\n",
    "1. Maximisation vs Minimization in the matrices\n",
    "2. Dimentions of D, P, Q matrices\n",
    "3. Confusion between P and Q matrices\n",
    "4. Correct cost of g(1) in recursion. Note that it is alpha + beta, not just alpha\n",
    "4. Confusion between row and column indexes\n",
    "5. Missing potential traceback paths\n"
   ]
  },
  {
   "cell_type": "code",
   "execution_count": null,
   "metadata": {},
   "outputs": [],
   "source": [
    "def gotoh(fasta_file_1, fasta_file_2, cost_gap_open, file_substitution_matrix=None):\n",
    "    \"Put your code here\"\n",
    "    return alignment_score, alignments\n",
    "\n",
    "\n",
    "class Gotoh:\n",
    "    def run(fasta_file_1, fasta_file_2, cost_gap_open, file_substitution_matrix=None):\n",
    "        \"Put your code here\"\n",
    "        return alignment_score, alignments"
   ]
  },
  {
   "cell_type": "markdown",
   "metadata": {},
   "source": [
    "## Guildines\n",
    "\n",
    "You do not have to use the suggested guidlines but it might help you not go get stuck."
   ]
  },
  {
   "cell_type": "code",
   "execution_count": null,
   "metadata": {},
   "outputs": [],
   "source": [
    "def score_of_alignment(align_seq1, align_seq2, cost_gap_open, \n",
    "                       cost_gap_extension, substitutions=None):\n",
    "    \"\"\"\n",
    "    A nice helper function which computes the score of the given alignment.\n",
    "    This is only used for the self check.\n",
    "    Input example:\n",
    "    --CG\n",
    "    AACA\n",
    "    \"\"\"\n",
    "    return score"
   ]
  },
  {
   "cell_type": "code",
   "execution_count": 6,
   "metadata": {},
   "outputs": [],
   "source": [
    "# Read and append empty sapce in beginning\n",
    "def read_fasta_file(fasta_file):\n",
    "    line = open(fasta_file).readlines()[1].replace(\"\\n\",\"\")\n",
    "    sequence = list(\" \" + line)\n",
    "    return sequence\n",
    "# test\n",
    "sequence = read_fasta_file(\"data/s1.fasta\")\n",
    "if ''.join(sequence) != ' ILDMDVVEGSAARFDCKVEGYPDPEVMWFKDDNPVKESRHFQIDYDEEGN':\n",
    "    print(\"Error reading fasta file.\")"
   ]
  },
  {
   "cell_type": "code",
   "execution_count": 151,
   "metadata": {
    "tags": []
   },
   "outputs": [],
   "source": [
    "def read_substitution_matrix(file_substitution_matrix):\n",
    "    \"\"\"\n",
    "    Implement reading the scores file.\n",
    "    It can be stored as a dictionary of example: scores[(\"A\", \"R\")] = -1\n",
    "    \"\"\"\n",
    "    lines = open(file_substitution_matrix).readlines()\n",
    "    matrix = []\n",
    "    # Convert to matrix\n",
    "    firstline = True\n",
    "    for l in lines:\n",
    "        if l[0]=='#':\n",
    "            continue\n",
    "        if firstline :\n",
    "            l = l.replace(\"   \",\"-  \").replace(\" \",\"\").replace(\"\\n\",\"\")\n",
    "            matrix.append(list(l))\n",
    "            firstline=False\n",
    "        else:\n",
    "            line=[]\n",
    "            line.append(list(l)[0])\n",
    "            istr = [x.strip('') for x in ''.join(list(l)[3:]).replace(\"\\n\",\"\").replace(\"  \", \" \").split(\" \")]\n",
    "            line.extend(istr)\n",
    "            matrix.append(line)\n",
    "\n",
    "    scores = dict()\n",
    "    for row in range(1,len(matrix)):\n",
    "        for col in range(1,len(matrix[0])):\n",
    "            scores[(matrix[0][col],matrix[row][0])] = int(matrix[row][col])\n",
    "    return scores\n",
    "scores = read_substitution_matrix(\"data/pam250.txt\")\n",
    "if scores.get(('*','*')) != 1 or scores.get(('R','A')) != -2:\n",
    "    print(\"Error in converting to dict\")"
   ]
  },
  {
   "cell_type": "code",
   "execution_count": 440,
   "metadata": {},
   "outputs": [
    {
     "output_type": "stream",
     "name": "stdout",
     "text": [
      "[0, -4, -5, -6, -7]\n[-4, None, None, None, None]\n[-5, None, None, None, None]\n"
     ]
    },
    {
     "output_type": "execute_result",
     "data": {
      "text/plain": [
       "(3, 5)"
      ]
     },
     "metadata": {},
     "execution_count": 440
    }
   ],
   "source": [
    "def initd(seq1, seq2, cost_open, cost_extend):\n",
    "    \"\"\"\n",
    "    Implement initialization of the matrix D\n",
    "    \"\"\"\n",
    "    matrix = []\n",
    "    counter=1\n",
    "    row = [0]\n",
    "    for x in range(1,len(seq2)):\n",
    "        if x != ' ':\n",
    "            x = cost_open + counter * cost_extend\n",
    "            row.append(x)\n",
    "            counter+=1\n",
    "    matrix.append(row)\n",
    "    counter = 1\n",
    "    for i in range(1,len(seq1)):\n",
    "        row = [None if x != ' ' else cost_open + counter * cost_extend for x in seq2]\n",
    "        counter+=1\n",
    "        matrix.append(row)\n",
    "\n",
    "    return matrix\n",
    "m = initd([\" \",\"C\",\"G\"],[\" \",\"C\",\"C\",\"G\",\"A\"], -3, -1)\n",
    "show(m)\n",
    "size(m)"
   ]
  },
  {
   "cell_type": "code",
   "execution_count": 441,
   "metadata": {},
   "outputs": [
    {
     "output_type": "stream",
     "name": "stdout",
     "text": [
      "[0, -1000000, -1000000, -1000000, -1000000, -1000000]\n['-', None, None, None, None, None]\n['-', None, None, None, None, None]\n"
     ]
    }
   ],
   "source": [
    "\n",
    "def initp(seq_1, seq_2):\n",
    "    matrix = []\n",
    "    # Assumption: we never reach a score of -1,000,000 --> is infinity!\n",
    "    col = [-10**6 if x != ' ' else 0 for x in seq_2]\n",
    "    matrix.append(col)\n",
    "    for i in range(1,len(seq_1)):\n",
    "        col = [None if x != ' ' else \"-\" for x in seq_2]\n",
    "        matrix.append(col)\n",
    "    return matrix\n",
    "\n",
    "# seq1, seq2 = read_fasta_file(\"data/s1.fasta\"),read_fasta_file(\"data/s2.fasta\")\n",
    "# result = init_matrix_p(seq1,seq2)\n",
    "seq1, seq2 = [\" \",\"A\",\"B\"],[\" \",\"A\",\"B\",\"C\",\"D\",\"E\"]\n",
    "result = initp(seq1,seq2)\n",
    "show(result)\n"
   ]
  },
  {
   "cell_type": "code",
   "execution_count": 442,
   "metadata": {},
   "outputs": [
    {
     "output_type": "stream",
     "name": "stdout",
     "text": [
      "[0, '-', '-', '-', '-']\n",
      "[-1000000, None, None, None, None]\n",
      "[-1000000, None, None, None, None]\n"
     ]
    },
    {
     "output_type": "execute_result",
     "data": {
      "text/plain": [
       "(3, 5)"
      ]
     },
     "metadata": {},
     "execution_count": 442
    }
   ],
   "source": [
    "def initq(seq_1, seq_2):\n",
    "    matrix = []\n",
    "    # Assumption: we never reach a score of -1,000,000 --> is infinity!\n",
    "    col = [\"-\" if x != ' ' else 0 for x in seq_2]\n",
    "    matrix.append(col)\n",
    "    for i in range(1,len(seq_1)):\n",
    "        col = [None if x != ' ' else -10**6 for x in seq_2]\n",
    "        matrix.append(col)\n",
    "    return matrix\n",
    "\n",
    "seq1, seq2 = [\" \",\"A\",\"B\"],[\" \",\"A\",\"B\",\"C\",\"4\"]\n",
    "result = initq(seq1,seq2)\n",
    "show(result)\n",
    "size(result)"
   ]
  },
  {
   "cell_type": "code",
   "execution_count": 443,
   "metadata": {},
   "outputs": [
    {
     "output_type": "stream",
     "name": "stdout",
     "text": [
      "[0, -1000000, -1000000, -1000000, -1000000]\n['-', None, None, None, None]\n['-', None, None, None, None]\n"
     ]
    },
    {
     "output_type": "execute_result",
     "data": {
      "text/plain": [
       "(3, 5)"
      ]
     },
     "metadata": {},
     "execution_count": 443
    }
   ],
   "source": [
    "def show(matrix):\n",
    "    for row in matrix:\n",
    "        print(row)\n",
    "def size(matrix):\n",
    "    row = len(matrix)\n",
    "    col = len(matrix[0][:])\n",
    "    for c in matrix:\n",
    "        if len(c) != col:\n",
    "            print(matrix)\n",
    "            raise Exception('Matrix not rectangular')\n",
    "    return row, col\n",
    "seq1, seq2 = [\" \",\"A\",\"B\"],[\" \",\"A\",\"B\",\"C\",\"4\"]\n",
    "result = initp(seq1,seq2)\n",
    "show(result)\n",
    "size(result)"
   ]
  },
  {
   "cell_type": "code",
   "execution_count": 476,
   "metadata": {},
   "outputs": [],
   "source": [
    "def complete_d_p_q_computation(seq1, seq2, cost_open, cost_extend, substitutions=None):\n",
    "    \"\"\"\n",
    "    Implement the recursive computation of matrices D, P and Q\n",
    "    \"\"\"\n",
    "    d = initd(seq1,seq2,cost_open, cost_extend)\n",
    "    p = initp(seq1,seq2)\n",
    "    q = initq(seq1,seq2)\n",
    "    # d = [[1,2,3,4,5],[6,7,8,9,10],[11,12,13,14,15]]\n",
    "    # all matrices have the same size, so iterate over entire matrix\n",
    "    for i in range(1,size(d)[0]):\n",
    "        for j in range(1,size(d)[1]):\n",
    "            p[i][j] = max([d[i-1][j]+cost_open+cost_extend,p[i-1][j]+cost_extend])\n",
    "            q[i][j] = max([d[i][j-1]+cost_open+cost_extend,q[i][j-1]+cost_extend])\n",
    "            # cost = 1 if seq1[i] == seq2[j] else -1\n",
    "            cost = substitutions(seq1[i],seq2[j])\n",
    "            d[i][j] = max([d[i-1][j-1]+cost,p[i][j],q[i][j]])\n",
    "    return d,p,q\n",
    "def com(a,b):\n",
    "    return 1 if a == b else -1\n",
    "seq1, seq2 = [\" \",\"C\",\"G\",\"G\"],[\" \",\"C\",\"C\",\"G\",\"A\"]\n",
    "d,p,q = complete_d_p_q_computation(seq1,seq2,-3,-1,com)\n",
    "if d[1] != [-4, 1, -3, -4, -5] or p[2] != ['-', -3, -7, -8, -9] or q[3] != [-1000000, -10, -8, -8, -3]:\n",
    "    raise Exception('matrix computation is wrong!') "
   ]
  },
  {
   "cell_type": "code",
   "execution_count": 491,
   "metadata": {},
   "outputs": [
    {
     "output_type": "error",
     "ename": "SyntaxError",
     "evalue": "'break' outside loop (<ipython-input-491-57e128918285>, line 38)",
     "traceback": [
      "\u001b[0;36m  File \u001b[0;32m\"<ipython-input-491-57e128918285>\"\u001b[0;36m, line \u001b[0;32m38\u001b[0m\n\u001b[0;31m    break\u001b[0m\n\u001b[0m    ^\u001b[0m\n\u001b[0;31mSyntaxError\u001b[0m\u001b[0;31m:\u001b[0m 'break' outside loop\n"
     ]
    }
   ],
   "source": [
    "\"\"\"\n",
    "You are working with 3 matrices simultaneously.\n",
    "You can store your path as a list of cells.\n",
    "A cell can be a tuple: coordinates, matrix_name.\n",
    "And coordinates is a tuple of indexex i, j.\n",
    "\n",
    "Cell example: ((0, 2), \"d\")\n",
    "Path example: [((2, 4), 'd'), ((2, 4), 'q'), ((2, 3), 'q'), ((2, 2), 'd'), ((1, 1), 'd'), ((0, 0), 'd')]\n",
    "\n",
    "\"\"\"\n",
    "seq1, seq2 = [\" \",\"C\",\"G\",\"G\"],[\" \",\"C\",\"C\",\"G\",\"A\"]\n",
    "d,p,q = complete_d_p_q_computation(seq1,seq2,-3,-1,com)\n",
    "def compute_all_tracebacks(seq1, seq2, d, p, q,\n",
    "                           cost_open, cost_extend, substitution=None):\n",
    "    \"\"\"\n",
    "    Implement a search for all possible paths from the bottom right corner to the top left.\n",
    "    Implement 'find_all_previous' and check_complete first.\n",
    "   \n",
    "    \"\"\"\n",
    "    il, jl=size(d)\n",
    "    il, jl = il-1,jl-1\n",
    "    \n",
    "    # m = max([d[il][jl],p[il][jl],q[il][jl]])\n",
    "    find_all_previous([(il-1,jl-1), 'd'],)\n",
    "\n",
    "    return all_paths\n",
    "    \n",
    "    \n",
    "    \n",
    "def find_all_previous(cell, seq1, seq2, d, p, q,\n",
    "                   cost_open, cost_extend, substitution=None):\n",
    "    parent_cells = []\n",
    "    \"\"\"\n",
    "    Implement a search for all possible previous cells.\n",
    "    \"\"\"\n",
    "    i,j = cell[0]\n",
    "    \n",
    "    if cell[1] == 'd':\n",
    "        break\n",
    "    elif cell[1] == 'p':\n",
    "        break\n",
    "    else:\n",
    "        break       \n",
    "    return parent_cells\n",
    "\n",
    "def check_complete(path):\n",
    "    \"\"\"\n",
    "    Implement a function which checks if the traceback path is complete.\n",
    "    \"\"\"\n",
    "\n",
    "find_all_previous(((3,5), \"d\"), seq1, seq2, d,p,q,-3,-1,com)\n",
    "# compute_all_tracebacks(seq1,seq2,d,p,q,-3,-1)"
   ]
  },
  {
   "cell_type": "code",
   "execution_count": null,
   "metadata": {},
   "outputs": [],
   "source": [
    "def alignment(traceback_path, seq1, seq2):\n",
    "    \"\"\"\n",
    "    Implement creation of the alignment with given traceback path and sequences1 and 2\n",
    "    \"\"\"\n",
    "    return alignment_seq1, alignment_seq2"
   ]
  },
  {
   "cell_type": "code",
   "execution_count": null,
   "metadata": {},
   "outputs": [],
   "source": []
  }
 ],
 "metadata": {
  "kernelspec": {
   "display_name": "Python 3.8.6 64-bit",
   "language": "python",
   "name": "python38664bita999cf5ad80f4024a0f12dd600237df8"
  },
  "language_info": {
   "codemirror_mode": {
    "name": "ipython",
    "version": 3
   },
   "file_extension": ".py",
   "mimetype": "text/x-python",
   "name": "python",
   "nbconvert_exporter": "python",
   "pygments_lexer": "ipython3",
   "version": "3.8.6-final"
  }
 },
 "nbformat": 4,
 "nbformat_minor": 2
}