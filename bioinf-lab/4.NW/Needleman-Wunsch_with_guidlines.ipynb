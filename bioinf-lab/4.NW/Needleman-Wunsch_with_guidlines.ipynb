{
 "cells": [
  {
   "cell_type": "markdown",
   "metadata": {},
   "source": [
    "# Needleman-Wunsch implementation\n",
    "\n",
    "In this asssingment you will be asked to implement the Needleman-Wunsch algorithm.\n",
    "\n",
    "You can implement it with a corresponding function or a class. The choice is up to you.\n",
    "\n",
    "### The inputs are:\n",
    "A protein sequnce A in a fasta file.\n",
    "\n",
    "A protein sequence B in a fasta file.\n",
    "\n",
    "Substitution matrix in a text file.\n",
    "\n",
    "Gap introduction cost as an integer.\n",
    "\n",
    "### The Outputs are:\n",
    "Alingment score\n",
    "Alingment representation of sequence1\n",
    "Alingment representation of sequence2\n",
    "\n",
    "## Implementation and testing\n",
    "1. First you need to implement your algorithm and test your implementation.\n",
    "Although there could be more than one alingment with an the optimal score, in this execrice we only requre you to provide one.\n",
    "\n",
    "2. Design some tests which will show that your code works correctly.\n",
    "For that purpose you can use some short DNA sequences. Create some examples which could be easily checked by eye.\n",
    "\n",
    "3. Run some tests with s1.fasta and s2.fasta\n",
    "Make sure that you could obtain the score of 31 with the PAM250 substitution matrix and the score of 4 with BLOSUM62 substitution matrix. Use gap cost of -8 for PAM250 and -6 for BLOSUM62. Be careful with the gap score and make sure that you score gaps negatively in your matrix.\n",
    "\n",
    "4. Provide alingments and scores for each pair of sequences in s1.fasta, s2.fasta, s3,fasta, s4.fasta\n",
    " for both PAM250 and BLOSUM62 and use the gap cost from the previous step"
   ]
  },
  {
   "cell_type": "code",
   "execution_count": 78,
   "metadata": {},
   "outputs": [
    {
     "output_type": "stream",
     "name": "stdout",
     "text": [
      "ILDMDVVEGSAARFDCKVEGYPDPEVMWFKDDNPVKESRHFQIDYDEEGN\n2\n"
     ]
    },
    {
     "output_type": "error",
     "ename": "IndexError",
     "evalue": "single positional indexer is out-of-bounds",
     "traceback": [
      "\u001b[0;31m---------------------------------------------------------------------------\u001b[0m",
      "\u001b[0;31mIndexError\u001b[0m                                Traceback (most recent call last)",
      "\u001b[0;32m<ipython-input-78-b892001cb229>\u001b[0m in \u001b[0;36m<module>\u001b[0;34m\u001b[0m\n\u001b[1;32m      8\u001b[0m     \u001b[0;32mreturn\u001b[0m \u001b[0maningment_score\u001b[0m\u001b[0;34m,\u001b[0m \u001b[0maligned_seq_1\u001b[0m\u001b[0;34m,\u001b[0m \u001b[0maligned_seq_2\u001b[0m\u001b[0;34m\u001b[0m\u001b[0;34m\u001b[0m\u001b[0m\n\u001b[1;32m      9\u001b[0m \u001b[0;34m\u001b[0m\u001b[0m\n\u001b[0;32m---> 10\u001b[0;31m \u001b[0mprint\u001b[0m\u001b[0;34m(\u001b[0m\u001b[0mneedleman_wunsch\u001b[0m\u001b[0;34m(\u001b[0m\u001b[0;34m\"data/s1.fasta\"\u001b[0m\u001b[0;34m,\u001b[0m \u001b[0;34m\"data/s2.fasta\"\u001b[0m\u001b[0;34m,\u001b[0m \u001b[0;34m\"data/pam250.txt\"\u001b[0m\u001b[0;34m,\u001b[0m \u001b[0;34m-\u001b[0m\u001b[0;36m8\u001b[0m\u001b[0;34m)\u001b[0m\u001b[0;34m)\u001b[0m\u001b[0;34m\u001b[0m\u001b[0;34m\u001b[0m\u001b[0m\n\u001b[0m\u001b[1;32m     11\u001b[0m \u001b[0;34m\u001b[0m\u001b[0m\n\u001b[1;32m     12\u001b[0m \u001b[0;32mclass\u001b[0m \u001b[0mNeedlemanWunsch\u001b[0m\u001b[0;34m:\u001b[0m\u001b[0;34m\u001b[0m\u001b[0;34m\u001b[0m\u001b[0m\n",
      "\u001b[0;32m<ipython-input-78-b892001cb229>\u001b[0m in \u001b[0;36mneedleman_wunsch\u001b[0;34m(fasta_file_1, fasta_file_2, file_substitution_matrix, cost_gap_open)\u001b[0m\n\u001b[1;32m      3\u001b[0m     \u001b[0mseq2\u001b[0m\u001b[0;34m=\u001b[0m \u001b[0mread_fasta_file\u001b[0m\u001b[0;34m(\u001b[0m\u001b[0mfasta_file_2\u001b[0m\u001b[0;34m)\u001b[0m\u001b[0;34m\u001b[0m\u001b[0;34m\u001b[0m\u001b[0m\n\u001b[1;32m      4\u001b[0m     \u001b[0msubm\u001b[0m \u001b[0;34m=\u001b[0m \u001b[0mread_substitution_matrix\u001b[0m\u001b[0;34m(\u001b[0m\u001b[0mfile_substitution_matrix\u001b[0m\u001b[0;34m)\u001b[0m\u001b[0;34m\u001b[0m\u001b[0;34m\u001b[0m\u001b[0m\n\u001b[0;32m----> 5\u001b[0;31m     \u001b[0mm\u001b[0m \u001b[0;34m=\u001b[0m \u001b[0mcalculate_matrix\u001b[0m\u001b[0;34m(\u001b[0m\u001b[0mseq1\u001b[0m\u001b[0;34m,\u001b[0m\u001b[0mseq2\u001b[0m\u001b[0;34m,\u001b[0m\u001b[0mcost_gap_open\u001b[0m\u001b[0;34m,\u001b[0m \u001b[0msubm\u001b[0m\u001b[0;34m)\u001b[0m\u001b[0;34m\u001b[0m\u001b[0;34m\u001b[0m\u001b[0m\n\u001b[0m\u001b[1;32m      6\u001b[0m     \u001b[0mprint\u001b[0m\u001b[0;34m(\u001b[0m\u001b[0mm\u001b[0m\u001b[0;34m)\u001b[0m\u001b[0;34m\u001b[0m\u001b[0;34m\u001b[0m\u001b[0m\n\u001b[1;32m      7\u001b[0m     \u001b[0maningment_score\u001b[0m\u001b[0;34m,\u001b[0m \u001b[0maligned_seq_1\u001b[0m\u001b[0;34m,\u001b[0m \u001b[0maligned_seq_2\u001b[0m \u001b[0;34m=\u001b[0m \u001b[0mtraceback\u001b[0m\u001b[0;34m(\u001b[0m\u001b[0mm\u001b[0m\u001b[0;34m,\u001b[0m \u001b[0mseq1\u001b[0m\u001b[0;34m,\u001b[0m\u001b[0mseq2\u001b[0m\u001b[0;34m,\u001b[0m\u001b[0mcost_gap_open\u001b[0m\u001b[0;34m,\u001b[0m \u001b[0msubm\u001b[0m\u001b[0;34m)\u001b[0m\u001b[0;34m\u001b[0m\u001b[0;34m\u001b[0m\u001b[0m\n",
      "\u001b[0;32m<ipython-input-77-a447653e9dd9>\u001b[0m in \u001b[0;36mcalculate_matrix\u001b[0;34m(sequence1, sequence2, gap_opening_cost, substitution_cost)\u001b[0m\n\u001b[1;32m     13\u001b[0m         \u001b[0;32mfor\u001b[0m \u001b[0mrow\u001b[0m \u001b[0;32min\u001b[0m \u001b[0mrange\u001b[0m\u001b[0;34m(\u001b[0m\u001b[0mi\u001b[0m\u001b[0;34m+\u001b[0m\u001b[0;36m1\u001b[0m\u001b[0;34m,\u001b[0m \u001b[0mlen\u001b[0m\u001b[0;34m(\u001b[0m\u001b[0msequence1\u001b[0m\u001b[0;34m)\u001b[0m\u001b[0;34m+\u001b[0m\u001b[0;36m1\u001b[0m\u001b[0;34m)\u001b[0m\u001b[0;34m:\u001b[0m\u001b[0;34m\u001b[0m\u001b[0;34m\u001b[0m\u001b[0m\n\u001b[1;32m     14\u001b[0m             \u001b[0mprint\u001b[0m\u001b[0;34m(\u001b[0m\u001b[0mrow\u001b[0m\u001b[0;34m)\u001b[0m\u001b[0;34m\u001b[0m\u001b[0;34m\u001b[0m\u001b[0m\n\u001b[0;32m---> 15\u001b[0;31m             \u001b[0mmatrix\u001b[0m\u001b[0;34m.\u001b[0m\u001b[0miloc\u001b[0m\u001b[0;34m[\u001b[0m\u001b[0mrow\u001b[0m\u001b[0;34m]\u001b[0m\u001b[0;34m[\u001b[0m\u001b[0mj\u001b[0m\u001b[0;34m]\u001b[0m\u001b[0;34m=\u001b[0m\u001b[0mnew_value_computation\u001b[0m\u001b[0;34m(\u001b[0m\u001b[0msequence1\u001b[0m\u001b[0;34m[\u001b[0m\u001b[0mrow\u001b[0m\u001b[0;34m-\u001b[0m\u001b[0;36m1\u001b[0m\u001b[0;34m]\u001b[0m\u001b[0;34m,\u001b[0m\u001b[0msequence2\u001b[0m\u001b[0;34m[\u001b[0m\u001b[0mj\u001b[0m\u001b[0;34m-\u001b[0m\u001b[0;36m1\u001b[0m\u001b[0;34m]\u001b[0m\u001b[0;34m,\u001b[0m \u001b[0mgap_opening_cost\u001b[0m\u001b[0;34m,\u001b[0m \u001b[0msubstitution_cost\u001b[0m\u001b[0;34m,\u001b[0m\u001b[0mmatrix\u001b[0m\u001b[0;34m.\u001b[0m\u001b[0miloc\u001b[0m\u001b[0;34m[\u001b[0m\u001b[0mrow\u001b[0m\u001b[0;34m-\u001b[0m\u001b[0;36m1\u001b[0m\u001b[0;34m]\u001b[0m\u001b[0;34m[\u001b[0m\u001b[0mj\u001b[0m\u001b[0;34m-\u001b[0m\u001b[0;36m1\u001b[0m\u001b[0;34m]\u001b[0m\u001b[0;34m,\u001b[0m\u001b[0mmatrix\u001b[0m\u001b[0;34m.\u001b[0m\u001b[0miloc\u001b[0m\u001b[0;34m[\u001b[0m\u001b[0mrow\u001b[0m\u001b[0;34m]\u001b[0m\u001b[0;34m[\u001b[0m\u001b[0mj\u001b[0m\u001b[0;34m-\u001b[0m\u001b[0;36m1\u001b[0m\u001b[0;34m]\u001b[0m\u001b[0;34m,\u001b[0m\u001b[0mmatrix\u001b[0m\u001b[0;34m.\u001b[0m\u001b[0miloc\u001b[0m\u001b[0;34m[\u001b[0m\u001b[0mrow\u001b[0m\u001b[0;34m-\u001b[0m\u001b[0;36m1\u001b[0m\u001b[0;34m]\u001b[0m\u001b[0;34m[\u001b[0m\u001b[0mj\u001b[0m\u001b[0;34m]\u001b[0m\u001b[0;34m)\u001b[0m\u001b[0;34m\u001b[0m\u001b[0;34m\u001b[0m\u001b[0m\n\u001b[0m\u001b[1;32m     16\u001b[0m         \u001b[0;32mfor\u001b[0m \u001b[0mcol\u001b[0m \u001b[0;32min\u001b[0m \u001b[0mrange\u001b[0m\u001b[0;34m(\u001b[0m\u001b[0mj\u001b[0m\u001b[0;34m+\u001b[0m\u001b[0;36m1\u001b[0m\u001b[0;34m,\u001b[0m \u001b[0mlen\u001b[0m\u001b[0;34m(\u001b[0m\u001b[0msequence2\u001b[0m\u001b[0;34m)\u001b[0m\u001b[0;34m+\u001b[0m\u001b[0;36m1\u001b[0m\u001b[0;34m)\u001b[0m\u001b[0;34m:\u001b[0m\u001b[0;34m\u001b[0m\u001b[0;34m\u001b[0m\u001b[0m\n\u001b[1;32m     17\u001b[0m             \u001b[0mmatrix\u001b[0m\u001b[0;34m.\u001b[0m\u001b[0miloc\u001b[0m\u001b[0;34m[\u001b[0m\u001b[0mi\u001b[0m\u001b[0;34m]\u001b[0m\u001b[0;34m[\u001b[0m\u001b[0mcol\u001b[0m\u001b[0;34m]\u001b[0m\u001b[0;34m=\u001b[0m\u001b[0mnew_value_computation\u001b[0m\u001b[0;34m(\u001b[0m\u001b[0msequence1\u001b[0m\u001b[0;34m[\u001b[0m\u001b[0mi\u001b[0m\u001b[0;34m-\u001b[0m\u001b[0;36m1\u001b[0m\u001b[0;34m]\u001b[0m\u001b[0;34m,\u001b[0m\u001b[0msequence2\u001b[0m\u001b[0;34m[\u001b[0m\u001b[0mcol\u001b[0m\u001b[0;34m-\u001b[0m\u001b[0;36m1\u001b[0m\u001b[0;34m]\u001b[0m\u001b[0;34m,\u001b[0m \u001b[0mgap_opening_cost\u001b[0m\u001b[0;34m,\u001b[0m \u001b[0msubstitution_cost\u001b[0m\u001b[0;34m,\u001b[0m\u001b[0mmatrix\u001b[0m\u001b[0;34m.\u001b[0m\u001b[0miloc\u001b[0m\u001b[0;34m[\u001b[0m\u001b[0mi\u001b[0m\u001b[0;34m-\u001b[0m\u001b[0;36m1\u001b[0m\u001b[0;34m]\u001b[0m\u001b[0;34m[\u001b[0m\u001b[0mcol\u001b[0m\u001b[0;34m-\u001b[0m\u001b[0;36m1\u001b[0m\u001b[0;34m]\u001b[0m\u001b[0;34m,\u001b[0m\u001b[0mmatrix\u001b[0m\u001b[0;34m.\u001b[0m\u001b[0miloc\u001b[0m\u001b[0;34m[\u001b[0m\u001b[0mi\u001b[0m\u001b[0;34m-\u001b[0m\u001b[0;36m1\u001b[0m\u001b[0;34m]\u001b[0m\u001b[0;34m[\u001b[0m\u001b[0mcol\u001b[0m\u001b[0;34m]\u001b[0m\u001b[0;34m,\u001b[0m\u001b[0mmatrix\u001b[0m\u001b[0;34m.\u001b[0m\u001b[0miloc\u001b[0m\u001b[0;34m[\u001b[0m\u001b[0mi\u001b[0m\u001b[0;34m]\u001b[0m\u001b[0;34m[\u001b[0m\u001b[0mcol\u001b[0m\u001b[0;34m-\u001b[0m\u001b[0;36m1\u001b[0m\u001b[0;34m]\u001b[0m\u001b[0;34m)\u001b[0m\u001b[0;34m\u001b[0m\u001b[0;34m\u001b[0m\u001b[0m\n",
      "\u001b[0;32m/usr/lib/python3/dist-packages/pandas/core/indexing.py\u001b[0m in \u001b[0;36m__getitem__\u001b[0;34m(self, key)\u001b[0m\n\u001b[1;32m   1766\u001b[0m \u001b[0;34m\u001b[0m\u001b[0m\n\u001b[1;32m   1767\u001b[0m             \u001b[0mmaybe_callable\u001b[0m \u001b[0;34m=\u001b[0m \u001b[0mcom\u001b[0m\u001b[0;34m.\u001b[0m\u001b[0mapply_if_callable\u001b[0m\u001b[0;34m(\u001b[0m\u001b[0mkey\u001b[0m\u001b[0;34m,\u001b[0m \u001b[0mself\u001b[0m\u001b[0;34m.\u001b[0m\u001b[0mobj\u001b[0m\u001b[0;34m)\u001b[0m\u001b[0;34m\u001b[0m\u001b[0;34m\u001b[0m\u001b[0m\n\u001b[0;32m-> 1768\u001b[0;31m             \u001b[0;32mreturn\u001b[0m \u001b[0mself\u001b[0m\u001b[0;34m.\u001b[0m\u001b[0m_getitem_axis\u001b[0m\u001b[0;34m(\u001b[0m\u001b[0mmaybe_callable\u001b[0m\u001b[0;34m,\u001b[0m \u001b[0maxis\u001b[0m\u001b[0;34m=\u001b[0m\u001b[0maxis\u001b[0m\u001b[0;34m)\u001b[0m\u001b[0;34m\u001b[0m\u001b[0;34m\u001b[0m\u001b[0m\n\u001b[0m\u001b[1;32m   1769\u001b[0m \u001b[0;34m\u001b[0m\u001b[0m\n\u001b[1;32m   1770\u001b[0m     \u001b[0;32mdef\u001b[0m \u001b[0m_is_scalar_access\u001b[0m\u001b[0;34m(\u001b[0m\u001b[0mself\u001b[0m\u001b[0;34m,\u001b[0m \u001b[0mkey\u001b[0m\u001b[0;34m:\u001b[0m \u001b[0mTuple\u001b[0m\u001b[0;34m)\u001b[0m\u001b[0;34m:\u001b[0m\u001b[0;34m\u001b[0m\u001b[0;34m\u001b[0m\u001b[0m\n",
      "\u001b[0;32m/usr/lib/python3/dist-packages/pandas/core/indexing.py\u001b[0m in \u001b[0;36m_getitem_axis\u001b[0;34m(self, key, axis)\u001b[0m\n\u001b[1;32m   2136\u001b[0m \u001b[0;34m\u001b[0m\u001b[0m\n\u001b[1;32m   2137\u001b[0m             \u001b[0;31m# validate the location\u001b[0m\u001b[0;34m\u001b[0m\u001b[0;34m\u001b[0m\u001b[0;34m\u001b[0m\u001b[0m\n\u001b[0;32m-> 2138\u001b[0;31m             \u001b[0mself\u001b[0m\u001b[0;34m.\u001b[0m\u001b[0m_validate_integer\u001b[0m\u001b[0;34m(\u001b[0m\u001b[0mkey\u001b[0m\u001b[0;34m,\u001b[0m \u001b[0maxis\u001b[0m\u001b[0;34m)\u001b[0m\u001b[0;34m\u001b[0m\u001b[0;34m\u001b[0m\u001b[0m\n\u001b[0m\u001b[1;32m   2139\u001b[0m \u001b[0;34m\u001b[0m\u001b[0m\n\u001b[1;32m   2140\u001b[0m             \u001b[0;32mreturn\u001b[0m \u001b[0mself\u001b[0m\u001b[0;34m.\u001b[0m\u001b[0m_get_loc\u001b[0m\u001b[0;34m(\u001b[0m\u001b[0mkey\u001b[0m\u001b[0;34m,\u001b[0m \u001b[0maxis\u001b[0m\u001b[0;34m=\u001b[0m\u001b[0maxis\u001b[0m\u001b[0;34m)\u001b[0m\u001b[0;34m\u001b[0m\u001b[0;34m\u001b[0m\u001b[0m\n",
      "\u001b[0;32m/usr/lib/python3/dist-packages/pandas/core/indexing.py\u001b[0m in \u001b[0;36m_validate_integer\u001b[0;34m(self, key, axis)\u001b[0m\n\u001b[1;32m   2061\u001b[0m         \u001b[0mlen_axis\u001b[0m \u001b[0;34m=\u001b[0m \u001b[0mlen\u001b[0m\u001b[0;34m(\u001b[0m\u001b[0mself\u001b[0m\u001b[0;34m.\u001b[0m\u001b[0mobj\u001b[0m\u001b[0;34m.\u001b[0m\u001b[0m_get_axis\u001b[0m\u001b[0;34m(\u001b[0m\u001b[0maxis\u001b[0m\u001b[0;34m)\u001b[0m\u001b[0;34m)\u001b[0m\u001b[0;34m\u001b[0m\u001b[0;34m\u001b[0m\u001b[0m\n\u001b[1;32m   2062\u001b[0m         \u001b[0;32mif\u001b[0m \u001b[0mkey\u001b[0m \u001b[0;34m>=\u001b[0m \u001b[0mlen_axis\u001b[0m \u001b[0;32mor\u001b[0m \u001b[0mkey\u001b[0m \u001b[0;34m<\u001b[0m \u001b[0;34m-\u001b[0m\u001b[0mlen_axis\u001b[0m\u001b[0;34m:\u001b[0m\u001b[0;34m\u001b[0m\u001b[0;34m\u001b[0m\u001b[0m\n\u001b[0;32m-> 2063\u001b[0;31m             \u001b[0;32mraise\u001b[0m \u001b[0mIndexError\u001b[0m\u001b[0;34m(\u001b[0m\u001b[0;34m\"single positional indexer is out-of-bounds\"\u001b[0m\u001b[0;34m)\u001b[0m\u001b[0;34m\u001b[0m\u001b[0;34m\u001b[0m\u001b[0m\n\u001b[0m\u001b[1;32m   2064\u001b[0m \u001b[0;34m\u001b[0m\u001b[0m\n\u001b[1;32m   2065\u001b[0m     \u001b[0;32mdef\u001b[0m \u001b[0m_getitem_tuple\u001b[0m\u001b[0;34m(\u001b[0m\u001b[0mself\u001b[0m\u001b[0;34m,\u001b[0m \u001b[0mtup\u001b[0m\u001b[0;34m:\u001b[0m \u001b[0mTuple\u001b[0m\u001b[0;34m)\u001b[0m\u001b[0;34m:\u001b[0m\u001b[0;34m\u001b[0m\u001b[0;34m\u001b[0m\u001b[0m\n",
      "\u001b[0;31mIndexError\u001b[0m: single positional indexer is out-of-bounds"
     ]
    }
   ],
   "source": [
    "def needleman_wunsch(fasta_file_1, fasta_file_2, file_substitution_matrix, cost_gap_open):\n",
    "    seq1= read_fasta_file(fasta_file_1)\n",
    "    seq2= read_fasta_file(fasta_file_2)\n",
    "    subm = read_substitution_matrix(file_substitution_matrix)\n",
    "    m = calculate_matrix(seq1,seq2,cost_gap_open, subm)\n",
    "    print(m)\n",
    "    aningment_score, aligned_seq_1, aligned_seq_2 = traceback(m, seq1,seq2,cost_gap_open, subm)\n",
    "    return aningment_score, aligned_seq_1, aligned_seq_2\n",
    "\n",
    "print(needleman_wunsch(\"data/s1.fasta\", \"data/s2.fasta\", \"data/pam250.txt\", -8))\n",
    "\n",
    "class NeedlemanWunsch:\n",
    "    def run(fasta_file_1, fasta_file_2, file_substitution_matrix, cost_gap_open):\n",
    "        \"Put your code here\"\n",
    "        return aningment_score, aligned_seq_1, aligned_seq_2"
   ]
  },
  {
   "cell_type": "markdown",
   "metadata": {},
   "source": [
    "## Guildines\n",
    "\n",
    "You do not have to use the suggested guidlines but it might help you not go get stuck"
   ]
  },
  {
   "cell_type": "code",
   "execution_count": 3,
   "metadata": {},
   "outputs": [],
   "source": [
    "def read_fasta_file(fasta_file):\n",
    "    sequence = open(fasta_file).readlines()[1].replace(\"\\n\",\"\")\n",
    "    return sequence"
   ]
  },
  {
   "cell_type": "code",
   "execution_count": 4,
   "metadata": {},
   "outputs": [],
   "source": [
    "import unittest\n",
    "class TestReadFastaFile(unittest.TestCase):\n",
    "    def test_read_fasta_file(self):\n",
    "        path = \"data/s1.fasta\"\n",
    "        sequence = read_fasta_file(path)\n",
    "        self.assertEqual(sequence, 'ILDMDVVEGSAARFDCKVEGYPDPEVMWFKDDNPVKESRHFQIDYDEEGN')\n",
    "t = TestReadFastaFile()\n",
    "t.test_read_fasta_file()"
   ]
  },
  {
   "cell_type": "code",
   "execution_count": 5,
   "metadata": {},
   "outputs": [],
   "source": [
    "import numpy as np\n",
    "import io\n",
    "def read_substitution_matrix(file_substitution_matrix):\n",
    "    \"\"\"\n",
    "    Implement reading the scores file.\n",
    "    It can be stored as a dictionary of example:\n",
    "    scores[(\"A\", \"R\")] = -1\n",
    "    \"\"\"\n",
    "    lines = open(file_substitution_matrix).readlines()\n",
    "    load_matrix = \"\"\n",
    "    for l in lines:\n",
    "        if l[0]=='#':\n",
    "            continue\n",
    "        load_matrix+= l.replace(\"   \",\"-  \")\n",
    "    f = io.StringIO(load_matrix)\n",
    "    matrix = np.loadtxt(f, dtype='str')\n",
    "\n",
    "    scores = dict()\n",
    "    for i in range(matrix.shape[0]-1):\n",
    "        for j in range(matrix.shape[1]-1):\n",
    "            scores[(matrix[0][i+1],matrix[j+1][0])] = int(matrix[i+1][j+1])\n",
    "    return scores"
   ]
  },
  {
   "cell_type": "code",
   "execution_count": 6,
   "metadata": {
    "tags": []
   },
   "outputs": [],
   "source": [
    "import unittest\n",
    "class TestReadSubstitionMatrix(unittest.TestCase):\n",
    "    def test_read_substition_matrix_pam(self):\n",
    "        path = \"data/pam250.txt\"\n",
    "        scores = read_substitution_matrix(path)\n",
    "        self.assertEquals(scores.get(('*','*')), 1)\n",
    "    def test_read_substition_matrix_blosum(self):\n",
    "        path = \"data/blosum62.txt\"\n",
    "        scores = read_substitution_matrix(path)\n",
    "        self.assertEquals(scores.get(('A','A')), 4)\n",
    "t = TestReadSubstitionMatrix()\n",
    "t.test_read_substition_matrix_pam()\n",
    "t.test_read_substition_matrix_blosum()"
   ]
  },
  {
   "cell_type": "code",
   "execution_count": 7,
   "metadata": {},
   "outputs": [
    {
     "output_type": "stream",
     "name": "stdout",
     "text": [
      "      A  B  C\n   0 -1 -2 -3\nA -1  0  0  0\nB -2  0  0  0\nC -3  0  0  0\nD -4  0  0  0\n"
     ]
    }
   ],
   "source": [
    "import pandas as pd\n",
    "def init_matrix(sequence1, sequence2, gap_cost):\n",
    "    \"\"\"\n",
    "    Implement initialization of the matrix.\n",
    "    Make sure you picked the right dimention and correctly initilized the first row and the first column.\n",
    "    \"\"\"\n",
    "    sequence1 = np.insert(sequence1,0,\"\")\n",
    "    # sequence1 = np.insert(sequence1,0,\"\")\n",
    "    # sequence2 = np.insert(sequence2,0,\"\")\n",
    "    sequence2 = np.insert(sequence2,0,\"\")\n",
    "    m = np.full((len(sequence1),len(sequence2)),0)\n",
    "    matrix = pd.DataFrame(m, columns=sequence2, index=sequence1)\n",
    "    gap_counter =0\n",
    "    for i in range(len(sequence1)):\n",
    "        matrix.iloc[i][0] = gap_cost*gap_counter   \n",
    "        gap_counter+=1\n",
    "    gap_counter=0\n",
    "    for i in range(len(sequence2)):\n",
    "        matrix.iloc[0][i] = gap_cost*gap_counter   \n",
    "        gap_counter+=1   \n",
    "    return matrix\n",
    "print(init_matrix(np.array(['A','B','C', 'D']),np.array(['A','B','C']),-1))"
   ]
  },
  {
   "cell_type": "code",
   "execution_count": 8,
   "metadata": {},
   "outputs": [
    {
     "output_type": "stream",
     "name": "stdout",
     "text": [
      "1\n"
     ]
    }
   ],
   "source": [
    "def new_value_computation(char_seq1, char_seq2, gap_cost, substitution_matrix, diag_val, top_val, left_val):\n",
    "    \"\"\"\n",
    "    Implement the computation of the value in the new cell.\n",
    "    In this function we assume that we want to compute the value in the new cell in the matrix.\n",
    "    Assume that the values \"to the left\", \"to the top\" and \"top left\" are already computed and provided\n",
    "    as the input to the function. Also we know what characters in both sequences correspond to the given cell.\n",
    "    \"\"\"\n",
    "    diag_val += substitution_matrix.get((char_seq1,char_seq2))\n",
    "    top_val+= gap_cost\n",
    "    left_val += gap_cost\n",
    "    return sorted([diag_val, top_val , left_val], reverse=True)[0]\n",
    "\n",
    "print(new_value_computation('A','R',-1,read_substitution_matrix(\"data/pam250.txt\"), 0, 2 ,-1))"
   ]
  },
  {
   "cell_type": "code",
   "execution_count": 77,
   "metadata": {
    "tags": []
   },
   "outputs": [
    {
     "output_type": "stream",
     "name": "stdout",
     "text": [
      "['H' 'E' 'A' 'G' 'A' 'W' 'G' 'H' 'E' 'E']\n2\n3\n4\n5\n6\n7\n8\n9\n10\n3\n4\n5\n6\n7\n8\n9\n10\n4\n5\n6\n7\n8\n9\n10\n5\n6\n7\n8\n9\n10\n6\n7\n8\n9\n10\n7\n8\n9\n10\n8\n9\n10\n9\n10\n10\n       P  A   W   H   E   A   E\n    0 -1 -2  -3  -4  -5  -6  -7\nH  -1  0 -1  -2   3   2   1   0\nE  -2 -1  0  -1   2   7   6   5\nA  -3 -1  1   0   1   6   9   8\nG  -4 -2  0  -1   0   5   8   9\nA  -5 -3  0  -1  -1   4   7   8\nW  -6 -4 -1  17  16  15  14  13\nG  -7 -5 -2  16  15  16  16  15\nH  -8 -6 -3  15  22  21  20  19\nE  -9 -7 -4  14  21  26  25  24\nE -10 -8 -5  13  20  25  26  29\n"
     ]
    }
   ],
   "source": [
    "def calculate_matrix(sequence1, sequence2, gap_opening_cost, substitution_cost):\n",
    "    \"\"\"\n",
    "    Implement the step of complete computation of the matrix\n",
    "    First initialize the matrix then fill it in from top to bottom.\n",
    "    \"\"\"\n",
    "    matrix = init_matrix(sequence1, sequence2, gap_opening_cost)\n",
    "    i=1\n",
    "    j=1\n",
    "    print(sequence1)\n",
    "    while(True):\n",
    "        if i <= len(sequence1) and j <= len(sequence2) :\n",
    "            matrix.iloc[i][j]=new_value_computation(sequence1[i-1],sequence2[j-1], gap_opening_cost, substitution_cost,matrix.iloc[i-1][j-1],matrix.iloc[i-1][j],matrix.iloc[i][j-1])\n",
    "        for row in range(i+1, len(sequence1)+1):\n",
    "            print(row)\n",
    "            matrix.iloc[row][j]=new_value_computation(sequence1[row-1],sequence2[j-1], gap_opening_cost, substitution_cost,matrix.iloc[row-1][j-1],matrix.iloc[row][j-1],matrix.iloc[row-1][j])\n",
    "        for col in range(j+1, len(sequence2)+1):\n",
    "            matrix.iloc[i][col]=new_value_computation(sequence1[i-1],sequence2[col-1], gap_opening_cost, substitution_cost,matrix.iloc[i-1][col-1],matrix.iloc[i-1][col],matrix.iloc[i][col-1])\n",
    "        if i == len(sequence1) and i == len(sequence1) :\n",
    "            break \n",
    "        if i < len(sequence1) : i+=1\n",
    "        if j < len(sequence2) : j+=1\n",
    "    return matrix\n",
    "# print(calculate_matrix(np.array(['A','R','R']),np.array(['A','R','R']),-1,read_substitution_matrix(\"data/pam250.txt\")))\n",
    "print(calculate_matrix(np.array(['H','E','A', 'G','A','W', 'G','H','E','E']),np.array(['P','A','W', 'H','E','A', 'E']),-1,read_substitution_matrix(\"data/pam250.txt\")))\n",
    "\n",
    "# https://gtuckerkellogg.github.io/pairwise/demo/"
   ]
  },
  {
   "cell_type": "code",
   "execution_count": 67,
   "metadata": {
    "tags": []
   },
   "outputs": [
    {
     "output_type": "stream",
     "name": "stdout",
     "text": [
      "(22, ['-', '-', 'P', '-', 'A', 'W', '-', '-', 'E', 'A', 'E'], ['H', 'E', 'A', 'G', 'A', 'W', 'G', 'H', 'E', '-', 'E'])\n"
     ]
    }
   ],
   "source": [
    "def traceback(matrix, sequence1, sequence2, gap_opening_cost,  substitution_cost):\n",
    "    \"\"\"\n",
    "    Implement the traceback part of the algorithm\n",
    "    With the given matrix traceback which cells were taken to complete the path from \n",
    "    the top left corner to the bottom right corner.\n",
    "    \"\"\"\n",
    "    i= len(sequence1)\n",
    "    j = len(sequence2)\n",
    "    traceback=[]\n",
    "    traceback = look(matrix, sequence1, sequence2, gap_opening_cost,  substitution_cost, i,j,traceback)\n",
    "    traceback.reverse()\n",
    "    a1 , a2 = alingment_build(traceback,sequence1,sequence2)\n",
    "    return matrix.iloc[i][j], a1, a2\n",
    "\n",
    "def look(matrix, sequence1, sequence2, gap_opening_cost,  substitution_matrix,i,j, traceback):\n",
    "    score = matrix.iloc[i][j]\n",
    "    if i==0 and j==0 :\n",
    "        return traceback\n",
    "    traceback.append([i,j])        \n",
    "    if i>0 and score == matrix.iloc[i-1][j] + gap_opening_cost:\n",
    "        i-=1\n",
    "        look(matrix, sequence1, sequence2, gap_opening_cost,  substitution_matrix, i,j,traceback)\n",
    "    elif j>0 and score == matrix.iloc[i][j-1] + gap_opening_cost:\n",
    "        j-=1\n",
    "        look(matrix, sequence1, sequence2, gap_opening_cost,  substitution_matrix, i,j,traceback)\n",
    "    elif score == matrix.iloc[i-1][j-1] + substitution_matrix.get((sequence1[i-1],sequence2[j-1])):\n",
    "        i-=1\n",
    "        j-=1\n",
    "        look(matrix, sequence1, sequence2, gap_opening_cost,  substitution_matrix, i,j,traceback)\n",
    "    return traceback\n",
    "\n",
    "seq1 = np.array(['P','A','W', 'E','A', 'E'])\n",
    "seq2 = np.array(['H','E','A', 'G','A','W', 'G','H','E','E'])\n",
    "sub = read_substitution_matrix(\"data/pam250.txt\")\n",
    "m=calculate_matrix(seq1, seq2,-1,sub)\n",
    "print(traceback(m,seq1,seq2,-1,sub))"
   ]
  },
  {
   "cell_type": "code",
   "execution_count": 69,
   "metadata": {},
   "outputs": [],
   "source": [
    "def alingment_build(traceback, seq1, seq2):\n",
    "    \"\"\"\n",
    "    Implement the alingment creation.\n",
    "    Given the traceback figure out which editing operations were used to create the alingment.\n",
    "    \"\"\"\n",
    "    seq1_align =[]\n",
    "    seq2_align =[]\n",
    "    \n",
    "    for p in traceback:\n",
    "        if p[0] == 0:\n",
    "            seq1_align.append('-')\n",
    "            seq2_align.append(seq2[p[1]-1])\n",
    "        elif p[1] == 0:\n",
    "            seq1_align.append(seq1[p[0]-1])\n",
    "            seq2_align.append('-')\n",
    "        else:\n",
    "            seq1_align.append(seq1[p[0]-1])\n",
    "            seq2_align.append(seq2[p[1]-1])\n",
    "\n",
    "    for i in range(len(seq1_align)):\n",
    "        if i > 0 and traceback[i][0] == traceback[i-1][0]:\n",
    "            seq1_align[i] = '-'\n",
    "        if i > 0 and traceback[i][1] == traceback[i-1][1]:\n",
    "            seq2_align[i] = '-'\n",
    "    return seq1_align, seq2_align\n",
    "\n",
    "seq1 = np.array(['P','A','W', 'E','A', 'E'])\n",
    "seq2 = np.array(['H','E','A', 'G','A','W', 'G','H','E','E'])\n",
    "sub = read_substitution_matrix(\"data/pam250.txt\")\n",
    "# m=calculate_matrix(seq1, seq2,-1,sub)\n",
    "# t = traceback(m,seq1,seq2,-1,sub)\n",
    "# print(alingment_build(t,seq1,seq2))"
   ]
  },
  {
   "source": [
    "![](img/test.png)"
   ],
   "cell_type": "markdown",
   "metadata": {}
  },
  {
   "cell_type": "code",
   "execution_count": null,
   "metadata": {},
   "outputs": [],
   "source": []
  },
  {
   "cell_type": "code",
   "execution_count": null,
   "metadata": {},
   "outputs": [],
   "source": []
  }
 ],
 "metadata": {
  "kernelspec": {
   "display_name": "Python 3.8.6 64-bit",
   "language": "python",
   "name": "python38664bita999cf5ad80f4024a0f12dd600237df8"
  },
  "language_info": {
   "codemirror_mode": {
    "name": "ipython",
    "version": 3
   },
   "file_extension": ".py",
   "mimetype": "text/x-python",
   "name": "python",
   "nbconvert_exporter": "python",
   "pygments_lexer": "ipython3",
   "version": "3.8.6-final"
  }
 },
 "nbformat": 4,
 "nbformat_minor": 2
}