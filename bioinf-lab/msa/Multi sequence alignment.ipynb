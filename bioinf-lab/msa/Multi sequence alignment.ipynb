{
 "cells": [
  {
   "cell_type": "markdown",
   "metadata": {},
   "source": [
    "# Multiple sequence alignment\n",
    "\n",
    "In this asssingment you will be asked to implement a simplified version of Feng-Doolittle algorithm.\n",
    "You will be building an alignment for 3 given input sequences.\n",
    "Make sure you utilize your Gotoh implementation.\n",
    "\n",
    "\n",
    "\n",
    "### The inputs are:\n",
    "An input DNA sequence1.\n",
    "\n",
    "An input DNA sequence2.\n",
    "\n",
    "An input DNA sequence2.\n",
    "\n",
    "Affine gap open cost as an integer.\n",
    "\n",
    "Affine gap extension score as an integer\n",
    "\n",
    "\n",
    "\n",
    "### The Outputs are:\n",
    "Alingment representations of sequence1, sequence2, sequence3.\n",
    "\n",
    "\n",
    "## Implementation\n",
    "\n",
    "First you need to implement your algorithm and test your implementation.\n",
    "\n",
    "Test your code using http://rna.informatik.uni-freiburg.de/Teaching/index.jsp?toolName=Feng-Doolittle\n",
    "\n",
    "\n",
    "Make sure that you get identical results for the final alignment representation.\n",
    "\n",
    "### Graded tasks\n",
    "You need to submit the results for the following input\n",
    "\n",
    "S1 = AAAAATTTACATTTAA\n",
    "\n",
    "S2 = ATTTTACATTTGGG\n",
    "\n",
    "S3 = ATTTTACATTTGGGG\n",
    "\n",
    "### Parameters\n",
    "\n",
    "1. Maximization for Gotoh\n",
    "\n",
    "2. Scores: match=1, mismatch=-1, gap_opening(alpha) = -3, gap_extension(beta) = -1\n",
    "\n"
   ]
  },
  {
   "cell_type": "markdown",
   "metadata": {},
   "source": [
    "# Roadmap\n",
    "\n",
    "By now you have gained some experience with the algorithm's implementation and you also have the Gotoh implementation at hand.\n",
    "That is why this time instead of a guidelines, we just give you a roadmap\n",
    "\n",
    "1. Make all 3 pairwise alingments for the given sequences using Gotoh\n",
    "\n",
    "2. Since in this assingment you can only have 3 input sequences at maximum, you do not need to implement the tree computation. Instead just implement a choice of the alingment with the best score.\n",
    "\n",
    "3. Replace the gap sign in the alingment with the best score with a \"#\" sign\n",
    "\n",
    "4. Compute alingments between the last sequence and the alingment representations from the previous step using Gotoh.\n",
    "\n",
    "5. Pick the best alingment from the previous step and propagate all the gaps to build the final representation."
   ]
  },
  {
   "cell_type": "markdown",
   "metadata": {},
   "source": [
    "# Bonus tasks\n",
    "\n",
    "Here are two bonus tasks. They are not graded within this assingment but will give you some bonus points.\n",
    "If you think that your implementation of NW of Gotoh was a bit off or you had a late submission these bonus tasks might be for you.\n",
    "\n",
    "1. Can you implement the multiple sequence alingment construction using a 3D matrix instead of Feng-Doolittle? See the slides for the recursion.\n",
    "\n",
    "2. Can you implement the multiple sequence alingment for more than 3 input sequences? You can have your own way of building/dealing with the order tree. It can be your own way/idea/implementation and we are not going to penelize mistakes. Just make sure you document it."
   ]
  },
  {
   "cell_type": "code",
   "execution_count": null,
   "metadata": {},
   "outputs": [],
   "source": []
  }
 ],
 "metadata": {
  "kernelspec": {
   "display_name": "Python 3",
   "language": "python",
   "name": "python3"
  },
  "language_info": {
   "codemirror_mode": {
    "name": "ipython",
    "version": 3
   },
   "file_extension": ".py",
   "mimetype": "text/x-python",
   "name": "python",
   "nbconvert_exporter": "python",
   "pygments_lexer": "ipython3",
   "version": "3.6.9"
  }
 },
 "nbformat": 4,
 "nbformat_minor": 2
}
